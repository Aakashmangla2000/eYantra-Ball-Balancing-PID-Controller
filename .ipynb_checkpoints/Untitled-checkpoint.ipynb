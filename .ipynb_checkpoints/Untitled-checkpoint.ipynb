{
 "cells": [
  {
   "cell_type": "code",
   "execution_count": null,
   "metadata": {},
   "outputs": [],
   "source": [
    "import numpy as np\n",
    "import cv2 as cv"
   ]
  },
  {
   "cell_type": "code",
   "execution_count": null,
   "metadata": {},
   "outputs": [],
   "source": [
    "# Python code to find the co-ordinates of \n",
    "# the contours detected in an image. \n",
    "import numpy as np \n",
    "import cv2 \n",
    "\n",
    "# Reading image \n",
    "font = cv2.FONT_HERSHEY_COMPLEX \n",
    "img2 = cv2.imread('maze00.jpg', cv2.IMREAD_COLOR) \n",
    "\n",
    "# Reading same image in another \n",
    "# variable and converting to gray scale. \n",
    "img = cv2.imread('maze00.jpg', cv2.IMREAD_GRAYSCALE) \n",
    "\n",
    "# Converting image to a binary image \n",
    "# ( black and white only image). \n",
    "_, threshold = cv2.threshold(img, 110, 255, cv2.THRESH_BINARY) \n",
    "\n",
    "# Detecting contours in image. \n",
    "contours, _= cv2.findContours(threshold, cv2.RETR_TREE, \n",
    "\t\t\t\t\t\t\tcv2.CHAIN_APPROX_SIMPLE) \n",
    "\n",
    "areas = []\n",
    "\n",
    "# Going through every contours found in the image. \n",
    "for cnt in contours : \n",
    "\tarea = cv2.contourArea(cnt)\n",
    "\tareas.append(area)\n",
    "\tapprox = cv2.approxPolyDP(cnt, 0.009 * cv2.arcLength(cnt, True), True) \n",
    "\n",
    "\t# draws boundary of contours. \n",
    "\tcv2.drawContours(img2, [approx], 0, (0, 0, 255), 5) \n",
    "\n",
    "\t# Used to flatted the array containing \n",
    "\t# the co-ordinates of the vertices. \n",
    "\tn = approx.ravel() \n",
    "\ti = 0\n",
    "\n",
    "\tfor j in n : \n",
    "\t\tif(i % 2 == 0): \n",
    "\t\t\tx = n[i] \n",
    "\t\t\ty = n[i + 1] \n",
    "\n",
    "\t\t\t# String containing the co-ordinates. \n",
    "\t\t\tstring = str(x) + \" \" + str(y) \n",
    "\n",
    "\t\t\tif(i == 0): \n",
    "\t\t\t\t# text on topmost co-ordinate. \n",
    "\t\t\t\tcv2.putText(img2, \"Arrow tip\", (x, y), \n",
    "\t\t\t\t\t\t\t\tfont, 0.5, (255, 0, 0)) \n",
    "\t\t\telse: \n",
    "\t\t\t\t# text on remaining co-ordinates. \n",
    "\t\t\t\tcv2.putText(img2, string, (x, y), \n",
    "\t\t\t\t\t\tfont, 0.5, (0, 255, 0)) \n",
    "\t\ti = i + 1\n",
    "\n",
    "# Showing the final image. \n",
    "cv2.imshow('image2', img2) \n",
    "\n",
    "# Exiting the window if 'q' is pressed on the keyboard. \n",
    "if cv2.waitKey(0) & 0xFF == ord('q'): \n",
    "\tcv2.destroyAllWindows() \n"
   ]
  },
  {
   "cell_type": "code",
   "execution_count": null,
   "metadata": {},
   "outputs": [],
   "source": []
  }
 ],
 "metadata": {
  "kernelspec": {
   "display_name": "NB_534",
   "language": "python",
   "name": "nb_534"
  },
  "language_info": {
   "codemirror_mode": {
    "name": "ipython",
    "version": 3
   },
   "file_extension": ".py",
   "mimetype": "text/x-python",
   "name": "python",
   "nbconvert_exporter": "python",
   "pygments_lexer": "ipython3",
   "version": "3.8.5"
  }
 },
 "nbformat": 4,
 "nbformat_minor": 4
}
